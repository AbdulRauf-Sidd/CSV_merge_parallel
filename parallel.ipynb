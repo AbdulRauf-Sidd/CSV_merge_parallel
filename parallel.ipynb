{
 "cells": [
  {
   "cell_type": "code",
   "execution_count": 1,
   "metadata": {},
   "outputs": [
    {
     "name": "stderr",
     "output_type": "stream",
     "text": [
      "/home/abdulrauf/Projects/anaconda3/lib/python3.12/site-packages/numpy/core/fromnumeric.py:59: FutureWarning: 'DataFrame.swapaxes' is deprecated and will be removed in a future version. Please use 'DataFrame.transpose' instead.\n",
      "  return bound(*args, **kwds)\n"
     ]
    },
    {
     "name": "stdout",
     "output_type": "stream",
     "text": [
      "Merged file saved to: merged_students_fees_parallel.csv\n"
     ]
    }
   ],
   "source": [
    "import pandas as pd\n",
    "from multiprocessing import Pool, cpu_count\n",
    "import numpy as np\n",
    "\n",
    "# Load the two CSV files\n",
    "students_df = pd.read_csv(\"students.csv\")\n",
    "fees_df = pd.read_csv(\"student_fees.csv\")\n",
    "\n",
    "# Create a dictionary for quick lookup of student data by Student ID\n",
    "students_dict = {row[\"Student ID\"]: row for _, row in students_df.iterrows()}\n",
    "\n",
    "# Function to merge a chunk of the fees DataFrame\n",
    "def merge_chunk(fee_chunk):\n",
    "    merged_chunk = []\n",
    "    for _, fee_row in fee_chunk.iterrows():\n",
    "        student_id = fee_row[\"Student ID\"]\n",
    "        if student_id in students_dict:\n",
    "            student_data = students_dict[student_id]\n",
    "            merged_row = {**fee_row, **student_data}  # Combine the two rows\n",
    "            merged_chunk.append(merged_row)\n",
    "    return merged_chunk\n",
    "\n",
    "# Split the fees DataFrame into chunks for parallel processing\n",
    "num_chunks = cpu_count()\n",
    "fee_chunks = np.array_split(fees_df, num_chunks)\n",
    "\n",
    "# Use multiprocessing to process the chunks in parallel\n",
    "with Pool(num_chunks) as pool:\n",
    "    results = pool.map(merge_chunk, fee_chunks)\n",
    "\n",
    "# Combine the results from all chunks\n",
    "merged_data = [row for chunk in results for row in chunk]\n",
    "\n",
    "# Convert the merged data into a DataFrame\n",
    "merged_df = pd.DataFrame(merged_data)\n",
    "\n",
    "# Save the merged result to a new CSV file\n",
    "merged_file_path = \"merged_students_fees_parallel.csv\"\n",
    "merged_df.to_csv(merged_file_path, index=False)\n",
    "\n",
    "print(f\"Merged file saved to: {merged_file_path}\")\n"
   ]
  }
 ],
 "metadata": {
  "kernelspec": {
   "display_name": "base",
   "language": "python",
   "name": "python3"
  },
  "language_info": {
   "codemirror_mode": {
    "name": "ipython",
    "version": 3
   },
   "file_extension": ".py",
   "mimetype": "text/x-python",
   "name": "python",
   "nbconvert_exporter": "python",
   "pygments_lexer": "ipython3",
   "version": "3.12.4"
  }
 },
 "nbformat": 4,
 "nbformat_minor": 2
}
