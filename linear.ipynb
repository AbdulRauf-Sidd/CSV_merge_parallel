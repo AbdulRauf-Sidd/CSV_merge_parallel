{
 "cells": [
  {
   "cell_type": "code",
   "execution_count": 3,
   "metadata": {},
   "outputs": [
    {
     "name": "stdout",
     "output_type": "stream",
     "text": [
      "Merged file saved to: merged_students_fees.csv\n"
     ]
    }
   ],
   "source": [
    "import pandas as pd\n",
    "\n",
    "# Load the two CSV files\n",
    "students_df = pd.read_csv(\"students.csv\")\n",
    "fees_df = pd.read_csv(\"student_fees.csv\")\n",
    "\n",
    "# Merge the two DataFrames without using pre-built functions\n",
    "merged_data = []\n",
    "\n",
    "# Create a dictionary for quick lookup of student data by Student ID\n",
    "students_dict = {row[\"Student ID\"]: row for _, row in students_df.iterrows()}\n",
    "\n",
    "# Iterate through the fees DataFrame and manually merge the data\n",
    "for _, fee_row in fees_df.iterrows():\n",
    "    student_id = fee_row[\"Student ID\"]\n",
    "    if student_id in students_dict:\n",
    "        student_data = students_dict[student_id]\n",
    "        merged_row = {**fee_row, **student_data}  # Combine the two rows\n",
    "        merged_data.append(merged_row)\n",
    "\n",
    "# Convert the merged data into a DataFrame\n",
    "merged_df = pd.DataFrame(merged_data)\n",
    "\n",
    "# Save the merged result to a new CSV file\n",
    "merged_file_path = \"merged_students_fees.csv\"\n",
    "merged_df.to_csv(merged_file_path, index=False)\n",
    "\n",
    "print(f\"Merged file saved to: {merged_file_path}\")"
   ]
  }
 ],
 "metadata": {
  "kernelspec": {
   "display_name": "base",
   "language": "python",
   "name": "python3"
  },
  "language_info": {
   "codemirror_mode": {
    "name": "ipython",
    "version": 3
   },
   "file_extension": ".py",
   "mimetype": "text/x-python",
   "name": "python",
   "nbconvert_exporter": "python",
   "pygments_lexer": "ipython3",
   "version": "3.12.4"
  }
 },
 "nbformat": 4,
 "nbformat_minor": 2
}
